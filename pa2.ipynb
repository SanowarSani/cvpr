{
 "cells": [
  {
   "cell_type": "code",
   "execution_count": 1,
   "id": "e62184de",
   "metadata": {},
   "outputs": [],
   "source": [
    "import keras,os\n",
    "import tensorflow as tf\n",
    "from tensorflow import keras\n",
    "from tensorflow.keras import layers\n",
    "from keras.models import Sequential\n",
    "from keras.layers import Conv2D\n",
    "from keras.layers import MaxPool2D\n",
    "from keras.layers import Flatten\n",
    "from keras.layers import Dense\n",
    "from keras.preprocessing.image import ImageDataGenerator\n",
    "import numpy as np\n"
   ]
  },
  {
   "cell_type": "code",
   "execution_count": null,
   "id": "7462e0af",
   "metadata": {},
   "outputs": [
    {
     "name": "stdout",
     "output_type": "stream",
     "text": [
      "Found 87000 images belonging to 1 classes.\n",
      "Found 28 images belonging to 1 classes.\n"
     ]
    }
   ],
   "source": [
    "trainData = ImageDataGenerator()\n",
    "tarin_data = trainData.flow_from_directory(directory = 'C:/Users/MD SANOWAR HOSSAIN/Downloads/archive/asl_alphabet_train', target_size = (224,224))\n",
    "\n",
    "\n",
    "testData = ImageDataGenerator()\n",
    "test_data = testData.flow_from_directory(directory ='C:/Users/MD SANOWAR HOSSAIN/Downloads/archive/asl_alphabet_test',target_size = (224,224))\n",
    "\n",
    "\n",
    "model = keras.Sequential([\n",
    "  \n",
    "    keras.Input(shape=(224,224,3)),\n",
    "    \n",
    "    \n",
    "   # layers.Conv2D(filters=32, kernel_size=(5,5), activation='relu'), # input->(32,32) output->(28,28)\n",
    "    #layers.MaxPooling2D(pool_size=(2,2)),\n",
    "    \n",
    "    \n",
    "    layers.Conv2D(filters=64, kernel_size=(5,5), activation = 'relu', padding = 'same'),\n",
    "    layers.Conv2D(filters=64, kernel_size=(5,5), activation = 'relu', padding = 'same'),\n",
    "    layers.MaxPooling2D(pool_size=(2,2)),\n",
    "\n",
    "\n",
    "    layers.Conv2D(filters=128, kernel_size=(5,5), activation = 'relu', padding = 'same'),\n",
    "    layers.Conv2D(filters=128, kernel_size=(5,5), activation = 'relu', padding = 'same'),\n",
    "    layers.MaxPooling2D(pool_size=(2,2)),\n",
    "\n",
    "\n",
    "    layers.Conv2D(filters=256, kernel_size=(3,3), activation = 'relu', padding = 'same'),\n",
    "    layers.Conv2D(filters=256, kernel_size=(3,3), activation = 'relu', padding = 'same'),\n",
    "    layers.Conv2D(filters=256, kernel_size=(3,3), activation = 'relu', padding = 'same'),\n",
    "    layers.MaxPooling2D(pool_size=(2,2)),\n",
    "\n",
    "\n",
    "    layers. Conv2D(filters=512, kernel_size=(3,3), activation = 'relu', padding = 'same'),\n",
    "    layers. Conv2D(filters=512, kernel_size=(3,3), activation = 'relu', padding = 'same'),\n",
    "    layers. Conv2D(filters=512, kernel_size=(3,3), activation = 'relu', padding = 'same'),\n",
    "    layers.MaxPooling2D(pool_size=(2,2)),\n",
    "\n",
    "\n",
    "    layers.Conv2D(filters=512, kernel_size=(3,3), activation = 'relu', padding = 'same'),\n",
    "    layers.Conv2D(filters=512, kernel_size=(3,3), activation = 'relu', padding = 'same'),\n",
    "    layers.Conv2D(filters=512, kernel_size=(3,3), activation = 'relu', padding = 'same'),\n",
    "    layers.MaxPooling2D(pool_size=(2,2)),\n",
    "\n",
    "\n",
    "#classification\n",
    "    layers.Flatten(),\n",
    "    layers.Dense(89000, activation = 'relu'),\n",
    "    layers.Dense(89000, activation = 'relu'),\n",
    "    layers.Dense(500, activation = 'softmax')\n",
    "    \n",
    "    \n",
    "   # layers.Flatten(),\n",
    "    #layers.Dense(64, activation='relu'),\n",
    "    \n",
    "    ## output layer\n",
    "    #layers.Dense(10, activation='softmax')\n",
    "\n",
    "\n",
    "   # model = Model(inputs = img_input, outputs = x, name = 'VGGdemo')\n",
    "    \n",
    "])\n",
    "\n",
    "model.compile(optimizer = 'adam', loss = keras.losses.categorical_crossentropy, metrics=['accuracy'])\n",
    "\n",
    "model.summary()\n",
    "\n",
    "hist = model.fit_generator(steps_per_epoch=100, generator=tarin_data, validation_data = test_data, validation_steps=10, epochs = 5)\n",
    "model.save('VGG.h5')\n",
    "\n"
   ]
  },
  {
   "cell_type": "code",
   "execution_count": null,
   "id": "27d4ddb5",
   "metadata": {},
   "outputs": [],
   "source": [
    "import matplotlib.pyplot as plt\n",
    "plt.plot(hist.history[\"accuracy\"])\n",
    "plt.plot(hist.history[\"Val_Accuracy\"])\n",
    "plt.plot(hist.history[\"Loss\"])\n",
    "plt.plot(hist.history[\"Val_loss\"])\n",
    "plt.title(\"Model Accuracy\")\n",
    "plt.ylable(\"Accuracy\")\n",
    "plt.xlable(\"Epoch\")\n",
    "plt.legend([\"Accuracy\",\"Validation Accuracy\",\"Loss\",\"Validation Loss\"])\n",
    "plt.show()\n"
   ]
  }
 ],
 "metadata": {
  "kernelspec": {
   "display_name": "Python 3",
   "language": "python",
   "name": "python3"
  },
  "language_info": {
   "codemirror_mode": {
    "name": "ipython",
    "version": 3
   },
   "file_extension": ".py",
   "mimetype": "text/x-python",
   "name": "python",
   "nbconvert_exporter": "python",
   "pygments_lexer": "ipython3",
   "version": "3.8.8"
  }
 },
 "nbformat": 4,
 "nbformat_minor": 5
}
