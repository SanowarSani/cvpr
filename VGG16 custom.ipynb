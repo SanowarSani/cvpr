{
 "cells": [
  {
   "cell_type": "code",
   "execution_count": 4,
   "id": "ef4285b9",
   "metadata": {},
   "outputs": [],
   "source": [
    "def VGGUpdate(input_tensor = None, classes = 2):\n",
    "\n",
    "    img_rows,img_cols = 300,300\n",
    "    img_channels = 3\n",
    "\n",
    "    img_dim = (img_rows,img_cols, img_channels)\n",
    "    img_input = Input(shape = img_dim)\n",
    "\n",
    "#Block 1\n",
    "    x = Conv2D(64,(3,3), activation = 'relu', padding = 'same')(img_input)\n",
    "    x = Conv2D(64,(3,3), activation = 'relu', padding = 'same')(x)\n",
    "    x = MaxPooling2D((2,2), strides =(2,2))(x)\n",
    "\n",
    "\n",
    "    x = Conv2D(128,(3,3), activation = 'relu', padding = 'same')(x)\n",
    "    x = Conv2D(128,(3,3), activation = 'relu', padding = 'same')(x)\n",
    "    x = MaxPooling2D((2,2), strides =(2,2))(x)\n",
    "\n",
    "\n",
    "    x = Conv2D(256,(3,3), activation = 'relu', padding = 'same')(x)\n",
    "    x = Conv2D(256,(3,3), activation = 'relu', padding = 'same')(x)\n",
    "    x = Conv2D(256,(3,3), activation = 'relu', padding = 'same')(x)\n",
    "    x = MaxPooling2D((2,2), strides =(2,2))(x)\n",
    "\n",
    "\n",
    "    x = Conv2D(512,(3,3), activation = 'relu', padding = 'same')(x)\n",
    "    x = Conv2D(512,(3,3), activation = 'relu', padding = 'same')(x)\n",
    "    x = Conv2D(512,(3,3), activation = 'relu', padding = 'same')(x)\n",
    "    x = MaxPooling2D((2,2), strides =(2,2))(x)\n",
    "\n",
    "\n",
    "    x = Conv2D(512,(3,3), activation = 'relu', padding = 'same')(x)\n",
    "    x = Conv2D(512,(3,3), activation = 'relu', padding = 'same')(x)\n",
    "    x = Conv2D(512,(3,3), activation = 'relu', padding = 'same')(x)\n",
    "    x = MaxPooling2D((2,2), strides =(2,2))(x)\n",
    "\n",
    "\n",
    "#classification\n",
    "    x = Flatten(name='flatten')(x)\n",
    "    x = Dense(4096, activation = 'relu', name='fc1')(x)\n",
    "    x = Dense(4096, activation = 'relu', name='fc2')(x)\n",
    "    x = Dense(classes, activation = 'softmax',name='predictions')(x)\n",
    "\n",
    "\n",
    "    model = Model(inputs = img_input, outputs = x, name = 'VGGdemo')\n",
    "\n",
    "    return model\n"
   ]
  },
  {
   "cell_type": "code",
   "execution_count": 4,
   "id": "9f06fa69",
   "metadata": {},
   "outputs": [],
   "source": [
    "import keras,os\n",
    "from keras.models import Sequential\n",
    "from keras.layers import Conv2D\n",
    "from keras.layers import MaxPool2D\n",
    "from keras.layers import Flatten\n",
    "from keras.layers import Dense\n",
    "from keras.preprocessing.image import ImageDataGenerator\n",
    "import numpy as np\n"
   ]
  },
  {
   "cell_type": "code",
   "execution_count": 5,
   "id": "4e68c243",
   "metadata": {
    "scrolled": true
   },
   "outputs": [
    {
     "name": "stdout",
     "output_type": "stream",
     "text": [
      "Found 87000 images belonging to 1 classes.\n",
      "Found 28 images belonging to 1 classes.\n",
      "Model: \"sequential\"\n",
      "_________________________________________________________________\n",
      "Layer (type)                 Output Shape              Param #   \n",
      "=================================================================\n",
      "flatten (Flatten)            (None, 150528)            0         \n",
      "_________________________________________________________________\n",
      "dense (Dense)                (None, 256)               38535424  \n",
      "_________________________________________________________________\n",
      "dense_1 (Dense)              (None, 256)               65792     \n",
      "_________________________________________________________________\n",
      "dense_2 (Dense)              (None, 2)                 514       \n",
      "=================================================================\n",
      "Total params: 38,601,730\n",
      "Trainable params: 38,601,730\n",
      "Non-trainable params: 0\n",
      "_________________________________________________________________\n"
     ]
    },
    {
     "name": "stderr",
     "output_type": "stream",
     "text": [
      "E:\\anaconda\\lib\\site-packages\\keras\\engine\\training.py:1977: UserWarning: `Model.fit_generator` is deprecated and will be removed in a future version. Please use `Model.fit`, which supports generators.\n",
      "  warnings.warn('`Model.fit_generator` is deprecated and '\n"
     ]
    },
    {
     "name": "stdout",
     "output_type": "stream",
     "text": [
      "Epoch 1/5\n",
      "100/100 [==============================] - ETA: 0s - loss: 164585.7344 - accuracy: 0.4994WARNING:tensorflow:Your input ran out of data; interrupting training. Make sure that your dataset or generator can generate at least `steps_per_epoch * epochs` batches (in this case, 10 batches). You may need to use the repeat() function when building your dataset.\n",
      "100/100 [==============================] - 107s 1s/step - loss: 164585.7344 - accuracy: 0.4994 - val_loss: 107946.2891 - val_accuracy: 1.0000\n",
      "Epoch 2/5\n",
      "100/100 [==============================] - 93s 927ms/step - loss: 2517979.0000 - accuracy: 0.5100\n",
      "Epoch 3/5\n",
      "100/100 [==============================] - 90s 905ms/step - loss: 10183697.0000 - accuracy: 0.5000\n",
      "Epoch 4/5\n",
      "100/100 [==============================] - 86s 860ms/step - loss: 19266658.0000 - accuracy: 0.5200\n",
      "Epoch 5/5\n",
      "100/100 [==============================] - 87s 867ms/step - loss: 52525920.0000 - accuracy: 0.5000\n"
     ]
    }
   ],
   "source": [
    "trainData = ImageDataGenerator()\n",
    "tarin_data = trainData.flow_from_directory(directory = 'C:/Users/MD SANOWAR HOSSAIN/Downloads/archive/asl_alphabet_train', target_size = (224,224))\n",
    "\n",
    "\n",
    "testData = ImageDataGenerator()\n",
    "test_data = testData.flow_from_directory(directory ='C:/Users/MD SANOWAR HOSSAIN/Downloads/archive/asl_alphabet_test',target_size = (224,224))\n",
    "\n",
    "\n",
    "#VGG = keras.applications.VGG16(input_shape = (224,224,3), include_top=False, weights = 'imagenet')\n",
    "#VGG.tarinable = False\n",
    "\n",
    "model = keras.Sequential([\n",
    "    \n",
    "   # VGG,\n",
    "    keras.Input(shape=(224,224,3)),\n",
    "    \n",
    "    keras.layers.Flatten(),\n",
    "    keras.layers.Dense(units = 256,activation='relu'),\n",
    "    keras.layers.Dense(units = 256,activation='relu'),\n",
    "    keras.layers.Dense(units = 2,activation='softmax'),\n",
    "    \n",
    "])\n",
    "\n",
    "model.compile(optimizer = 'adam', loss = keras.losses.categorical_crossentropy, metrics=['accuracy'])\n",
    "\n",
    "model.summary()\n",
    "\n",
    "hist = model.fit_generator(steps_per_epoch=100, generator=tarin_data, validation_data = test_data, validation_steps=10, epochs = 5)\n",
    "model.save('sunny.h5')\n",
    "\n",
    "\n"
   ]
  },
  {
   "cell_type": "code",
   "execution_count": 7,
   "id": "9ca12575",
   "metadata": {},
   "outputs": [
    {
     "name": "stderr",
     "output_type": "stream",
     "text": [
      "E:\\anaconda\\lib\\site-packages\\keras\\engine\\training.py:1977: UserWarning: `Model.fit_generator` is deprecated and will be removed in a future version. Please use `Model.fit`, which supports generators.\n",
      "  warnings.warn('`Model.fit_generator` is deprecated and '\n"
     ]
    },
    {
     "name": "stdout",
     "output_type": "stream",
     "text": [
      "Epoch 1/5\n",
      "100/100 [==============================] - ETA: 0s - loss: 153319392.0000 - accuracy: 0.5100WARNING:tensorflow:Your input ran out of data; interrupting training. Make sure that your dataset or generator can generate at least `steps_per_epoch * epochs` batches (in this case, 10 batches). You may need to use the repeat() function when building your dataset.\n",
      "100/100 [==============================] - 68s 682ms/step - loss: 153319392.0000 - accuracy: 0.5100 - val_loss: 320246336.0000 - val_accuracy: 0.0000e+00\n",
      "Epoch 2/5\n",
      "100/100 [==============================] - 68s 676ms/step - loss: 213648688.0000 - accuracy: 0.5113\n",
      "Epoch 3/5\n",
      "100/100 [==============================] - 82s 819ms/step - loss: 230560400.0000 - accuracy: 0.4900\n",
      "Epoch 4/5\n",
      "100/100 [==============================] - 68s 678ms/step - loss: 247302784.0000 - accuracy: 0.5000\n",
      "Epoch 5/5\n",
      "100/100 [==============================] - 68s 682ms/step - loss: 257867168.0000 - accuracy: 0.5000\n"
     ]
    },
    {
     "ename": "KeyError",
     "evalue": "'Val_Accuracy'",
     "output_type": "error",
     "traceback": [
      "\u001b[1;31m---------------------------------------------------------------------------\u001b[0m",
      "\u001b[1;31mKeyError\u001b[0m                                  Traceback (most recent call last)",
      "\u001b[1;32m<ipython-input-7-8d807d7ac920>\u001b[0m in \u001b[0;36m<module>\u001b[1;34m\u001b[0m\n\u001b[0;32m      4\u001b[0m \u001b[1;32mimport\u001b[0m \u001b[0mmatplotlib\u001b[0m\u001b[1;33m.\u001b[0m\u001b[0mpyplot\u001b[0m \u001b[1;32mas\u001b[0m \u001b[0mplt\u001b[0m\u001b[1;33m\u001b[0m\u001b[1;33m\u001b[0m\u001b[0m\n\u001b[0;32m      5\u001b[0m \u001b[0mplt\u001b[0m\u001b[1;33m.\u001b[0m\u001b[0mplot\u001b[0m\u001b[1;33m(\u001b[0m\u001b[0mhist\u001b[0m\u001b[1;33m.\u001b[0m\u001b[0mhistory\u001b[0m\u001b[1;33m[\u001b[0m\u001b[1;34m\"accuracy\"\u001b[0m\u001b[1;33m]\u001b[0m\u001b[1;33m)\u001b[0m\u001b[1;33m\u001b[0m\u001b[1;33m\u001b[0m\u001b[0m\n\u001b[1;32m----> 6\u001b[1;33m \u001b[0mplt\u001b[0m\u001b[1;33m.\u001b[0m\u001b[0mplot\u001b[0m\u001b[1;33m(\u001b[0m\u001b[0mhist\u001b[0m\u001b[1;33m.\u001b[0m\u001b[0mhistory\u001b[0m\u001b[1;33m[\u001b[0m\u001b[1;34m\"Val_Accuracy\"\u001b[0m\u001b[1;33m]\u001b[0m\u001b[1;33m)\u001b[0m\u001b[1;33m\u001b[0m\u001b[1;33m\u001b[0m\u001b[0m\n\u001b[0m\u001b[0;32m      7\u001b[0m \u001b[0mplt\u001b[0m\u001b[1;33m.\u001b[0m\u001b[0mplot\u001b[0m\u001b[1;33m(\u001b[0m\u001b[0mhist\u001b[0m\u001b[1;33m.\u001b[0m\u001b[0mhistory\u001b[0m\u001b[1;33m[\u001b[0m\u001b[1;34m\"Loss\"\u001b[0m\u001b[1;33m]\u001b[0m\u001b[1;33m)\u001b[0m\u001b[1;33m\u001b[0m\u001b[1;33m\u001b[0m\u001b[0m\n\u001b[0;32m      8\u001b[0m \u001b[0mplt\u001b[0m\u001b[1;33m.\u001b[0m\u001b[0mplot\u001b[0m\u001b[1;33m(\u001b[0m\u001b[0mhist\u001b[0m\u001b[1;33m.\u001b[0m\u001b[0mhistory\u001b[0m\u001b[1;33m[\u001b[0m\u001b[1;34m\"Val_loss\"\u001b[0m\u001b[1;33m]\u001b[0m\u001b[1;33m)\u001b[0m\u001b[1;33m\u001b[0m\u001b[1;33m\u001b[0m\u001b[0m\n",
      "\u001b[1;31mKeyError\u001b[0m: 'Val_Accuracy'"
     ]
    },
    {
     "data": {
      "image/png": "[encoded data removed]",
      "text/plain": [
       "<Figure size 432x288 with 1 Axes>"
      ]
     },
     "metadata": {
      "needs_background": "light"
     },
     "output_type": "display_data"
    }
   ],
   "source": [
    "hist = model.fit_generator(steps_per_epoch=100, generator=tarin_data, validation_data = test_data, validation_steps=10, epochs = 5)\n",
    "model.save('sunny.h5')\n",
    "\n",
    "import matplotlib.pyplot as plt\n",
    "plt.plot(hist.history[\"accuracy\"])\n",
    "plt.plot(hist.history[\"Val_Accuracy\"])\n",
    "plt.plot(hist.history[\"Loss\"])\n",
    "plt.plot(hist.history[\"Val_loss\"])\n",
    "plt.title(\"Model Accuracy\")\n",
    "plt.ylable(\"Accuracy\")\n",
    "plt.xlable(\"Epoch\")\n",
    "plt.legend([\"Accuracy\",\"Validation Accuracy\",\"Loss\",\"Validation Loss\"])\n",
    "plt.show()\n"
   ]
  },
  {
   "cell_type": "code",
   "execution_count": null,
   "id": "5931ea3a",
   "metadata": {},
   "outputs": [],
   "source": []
  }
 ],
 "metadata": {
  "kernelspec": {
   "display_name": "Python 3",
   "language": "python",
   "name": "python3"
  }
 },
 "nbformat": 4,
 "nbformat_minor": 5
}
